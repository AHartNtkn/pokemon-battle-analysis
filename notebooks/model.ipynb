{
 "cells": [
  {
   "cell_type": "code",
   "execution_count": 35,
   "metadata": {},
   "outputs": [],
   "source": [
    "import pandas as pd\n",
    "\n",
    "import numpy as np\n",
    "\n",
    "from sklearn.model_selection import train_test_split\n",
    "from sklearn.ensemble import RandomForestClassifier\n",
    "from sklearn.feature_selection import SelectKBest\n",
    "from sklearn.pipeline import Pipeline, FeatureUnion\n",
    "from sklearn.compose import ColumnTransformer\n",
    "from sklearn.metrics import accuracy_score\n",
    "\n",
    "import warnings\n",
    "warnings.filterwarnings(action='ignore', category=FutureWarning, module='sklearn')"
   ]
  },
  {
   "cell_type": "code",
   "execution_count": 27,
   "metadata": {},
   "outputs": [],
   "source": [
    "# The number of pokemon apearing in each dataset, times 2 (for each team)\n",
    "vgcSunk = 788\n",
    "ouk = 1108"
   ]
  },
  {
   "cell_type": "code",
   "execution_count": 28,
   "metadata": {},
   "outputs": [],
   "source": [
    "oudf = pd.read_csv(\"ou_hot.csv\")\n",
    "vgcdf = pd.read_csv(\"vgcSun_hot.csv\")"
   ]
  },
  {
   "cell_type": "code",
   "execution_count": 29,
   "metadata": {},
   "outputs": [],
   "source": [
    "target = \"winner\"\n",
    "oufeatures = oudf.columns.drop(\"winner\")\n",
    "vgcfeatures = vgcdf.columns.drop(\"winner\")"
   ]
  },
  {
   "cell_type": "code",
   "execution_count": 30,
   "metadata": {},
   "outputs": [],
   "source": [
    "ouXTrain, ouXValidate, ouYTrain, ouYValidate = train_test_split(\n",
    "    oudf[oufeatures], oudf[target], train_size=0.8, test_size=0.2)\n",
    "\n",
    "vgcXTrain, vgcXValidate, vgcYTrain, vgcYValidate = train_test_split(\n",
    "    vgcdf[vgcfeatures], vgcdf[target], train_size=0.8, test_size=0.2)"
   ]
  },
  {
   "cell_type": "code",
   "execution_count": 31,
   "metadata": {},
   "outputs": [],
   "source": [
    "categorical_oufeatures = oufeatures[0:ouk]\n",
    "numeric_oufeatures = oufeatures[ouk:]\n",
    "\n",
    "categorical_vgcfeatures = vgcfeatures[0:vgcSunk]\n",
    "numeric_vgcfeatures = vgcfeatures[vgcSunk:]"
   ]
  },
  {
   "cell_type": "code",
   "execution_count": 38,
   "metadata": {},
   "outputs": [],
   "source": [
    "# Feature Selection Pipelines\n",
    "oufeats = ColumnTransformer([\n",
    "           ('cats', SelectKBest(score_func=chi2, k=291), categorical_oufeatures), \n",
    "           ('nums', SelectKBest(score_func=f_classif, k=90), numeric_oufeatures)])\n",
    "\n",
    "vgcfeats = ColumnTransformer([\n",
    "           ('cats', SelectKBest(score_func=chi2, k=291), categorical_vgcfeatures), \n",
    "           ('nums', SelectKBest(score_func=f_classif, k=90), numeric_vgcfeatures)])"
   ]
  },
  {
   "cell_type": "code",
   "execution_count": 39,
   "metadata": {},
   "outputs": [],
   "source": [
    "ouModel = Pipeline([\n",
    "      (\"feats\", oufeats),\n",
    "      (\"Rand\", RandomForestClassifier(n_estimators=100, n_jobs=-1, max_features = 0.97))\n",
    "  ])\n",
    "\n",
    "vgcModel = Pipeline([\n",
    "      (\"feats\", vgcfeats),\n",
    "      (\"Rand\", RandomForestClassifier(n_estimators=100, n_jobs=-1, max_features = 0.97))\n",
    "  ])"
   ]
  },
  {
   "cell_type": "code",
   "execution_count": 40,
   "metadata": {},
   "outputs": [
    {
     "data": {
      "text/plain": [
       "Pipeline(memory=None,\n",
       "         steps=[('feats',\n",
       "                 ColumnTransformer(n_jobs=None, remainder='drop',\n",
       "                                   sparse_threshold=0.3,\n",
       "                                   transformer_weights=None,\n",
       "                                   transformers=[('cats',\n",
       "                                                  SelectKBest(k=291,\n",
       "                                                              score_func=<function chi2 at 0x0000013A87E953A8>),\n",
       "                                                  Index(['Abomasnow_team_1', 'Accelgor_team_1', 'Aegislash_team_1',\n",
       "       'Aerodactyl_team_1', 'Aggron_team_1', 'Alakazam_team_1',\n",
       "       'Alomomola_team_...\n",
       "                ('Rand',\n",
       "                 RandomForestClassifier(bootstrap=True, class_weight=None,\n",
       "                                        criterion='gini', max_depth=None,\n",
       "                                        max_features=0.97, max_leaf_nodes=None,\n",
       "                                        min_impurity_decrease=0.0,\n",
       "                                        min_impurity_split=None,\n",
       "                                        min_samples_leaf=1, min_samples_split=2,\n",
       "                                        min_weight_fraction_leaf=0.0,\n",
       "                                        n_estimators=100, n_jobs=-1,\n",
       "                                        oob_score=False, random_state=None,\n",
       "                                        verbose=0, warm_start=False))],\n",
       "         verbose=False)"
      ]
     },
     "execution_count": 40,
     "metadata": {},
     "output_type": "execute_result"
    }
   ],
   "source": [
    "ouModel.fit(ouXTrain, ouYTrain)\n",
    "vgcModel.fit(vgcXTrain, vgcYTrain)"
   ]
  },
  {
   "cell_type": "code",
   "execution_count": 41,
   "metadata": {},
   "outputs": [],
   "source": [
    "# Used to swap team 1 and team 2\n",
    "def switchTeams(x, k):\n",
    "    newx = x.copy()\n",
    "    \n",
    "    newx[k//2:k] = x[0:k//2] # Team 1 Pokes\n",
    "    newx[0:k//2] = x[k//2:k] # Team 2 Pokes\n",
    "\n",
    "    newx[k+19:k+38] = x[k:k+19] # Team 1 Types\n",
    "    newx[k:k+19] = x[k+19:k+38] # Team 2 Types\n",
    "\n",
    "    newx[k+44:k+50] = x[k+38:k+44] # Team 1 mean\n",
    "    newx[k+38:k+44] = x[k+44:k+50] # Team 2 mean\n",
    "\n",
    "    newx[k+56:k+62] = x[k+50:k+56] # Team 1 std\n",
    "    newx[k+50:k+56] = x[k+56:k+62] # Team 2 std\n",
    "\n",
    "    newx[k+80:k+98] = x[k+62:k+80] # Team 1 typedef\n",
    "    newx[k+62:k+80] = x[k+80:k+98] # Team 2 typedef\n",
    "\n",
    "    newx[k+99] = x[k+98] # Team 1 mean types\n",
    "    newx[k+98] = x[k+99] # Team 2 mean types\n",
    "\n",
    "    newx[k+101] = x[k+100] # Team 1 immunities\n",
    "    newx[k+100] = x[k+101] # Team 2 immunities\n",
    "\n",
    "    newx[k+110:k+118] = x[k+102:k+110] # Team 1 imunity\n",
    "    newx[k+102:k+110] = x[k+110:k+118] # Team 2 imunity\n",
    "\n",
    "    newx[k+119] = x[k+118] # Team 1 superweaknesses\n",
    "    newx[k+118] = x[k+119] # Team 2 superweaknesses\n",
    "\n",
    "    newx[k+126:k+132] = x[k+120:k+126] # Team 1 Max\n",
    "    newx[k+120:k+126] = x[k+126:k+132] # Team 2 Max\n",
    "\n",
    "    newx[k+138:k+144] = x[k+132:k+138] # Team 1 Min\n",
    "    newx[k+132:k+138] = x[k+138:k+144] # Team 2 Min\n",
    "    \n",
    "    return newx\n",
    "\n",
    "# Used to swap team 1 and team 2 within a dataframe\n",
    "def switchTeamsPd(df, k):\n",
    "    df = df.copy()\n",
    "    for i in range(len(df)):\n",
    "        df.iloc[i] = switchTeams(df.iloc[i], k)\n",
    "    \n",
    "    return df\n",
    "\n",
    "# Combine two lists of probabilities into a mean of probabilities\n",
    "def combineProbs(p1, p2):\n",
    "    pr = p1.copy()\n",
    "    for i in range(len(p1)):\n",
    "        pr[i] = [(p1[i][0]+p2[i][1])/2, (p1[i][1]+p2[i][0])/2]\n",
    "    return pr"
   ]
  },
  {
   "cell_type": "code",
   "execution_count": 42,
   "metadata": {
    "scrolled": false
   },
   "outputs": [
    {
     "data": {
      "text/plain": [
       "0.6089334548769371"
      ]
     },
     "execution_count": 42,
     "metadata": {},
     "output_type": "execute_result"
    }
   ],
   "source": [
    "# For inputs, switch teams around\n",
    "ouTeSw = switchTeamsPd(ouXValidate, ouk)\n",
    "# Run both the original and swapped teams through the model, and combine them\n",
    "predProbs = combineProbs(ouModel.predict_proba(ouXValidate), ouModel.predict_proba(ouTeSw))\n",
    "# Turn probabilities into a prediction\n",
    "pred = [ \"team_1\" if x[0] > .5 else \"team_2\" for x in predProbs ]\n",
    "# prediction accuracy\n",
    "accuracy_score(pred, ouYValidate)"
   ]
  },
  {
   "cell_type": "code",
   "execution_count": 43,
   "metadata": {},
   "outputs": [
    {
     "data": {
      "text/plain": [
       "0.625"
      ]
     },
     "execution_count": 43,
     "metadata": {},
     "output_type": "execute_result"
    }
   ],
   "source": [
    "# For inputs, switch teams around\n",
    "vgcTeSw = switchTeamsPd(vgcXValidate, vgcSunk)\n",
    "# Run both the original and swapped teams through the model, and combine them\n",
    "predProbs = combineProbs(vgcModel.predict_proba(vgcXValidate), vgcModel.predict_proba(vgcTeSw))\n",
    "# Turn probabilities into a prediction\n",
    "pred = [ \"team_1\" if x[0] > .5 else \"team_2\" for x in predProbs ]\n",
    "# prediction accuracy\n",
    "accuracy_score(pred, vgcYValidate)"
   ]
  },
  {
   "cell_type": "code",
   "execution_count": 44,
   "metadata": {},
   "outputs": [
    {
     "data": {
      "text/plain": [
       "['vgcModel.joblib']"
      ]
     },
     "execution_count": 44,
     "metadata": {},
     "output_type": "execute_result"
    }
   ],
   "source": [
    "from joblib import dump\n",
    "dump(ouModel, 'ouModel.joblib')\n",
    "dump(vgcModel, 'vgcModel.joblib')"
   ]
  },
  {
   "cell_type": "code",
   "execution_count": null,
   "metadata": {},
   "outputs": [],
   "source": []
  }
 ],
 "metadata": {
  "kernelspec": {
   "display_name": "Python 3",
   "language": "python",
   "name": "python3"
  },
  "language_info": {
   "codemirror_mode": {
    "name": "ipython",
    "version": 3
   },
   "file_extension": ".py",
   "mimetype": "text/x-python",
   "name": "python",
   "nbconvert_exporter": "python",
   "pygments_lexer": "ipython3",
   "version": "3.7.4"
  }
 },
 "nbformat": 4,
 "nbformat_minor": 2
}
